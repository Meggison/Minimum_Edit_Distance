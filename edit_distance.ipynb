{
 "cells": [
  {
   "cell_type": "code",
   "execution_count": 12,
   "metadata": {},
   "outputs": [],
   "source": [
    "def minimum_edit_distance(word1, word2):\n",
    "    m, n = len(word1), len(word2)\n",
    "\n",
    "    dp = [[0] * n for _  in range(m)]\n",
    "\n",
    "    if m <= 0:\n",
    "        return n\n",
    "    \n",
    "    elif n <= 0:\n",
    "        return m\n",
    "\n",
    "    for i in range(m+1):\n",
    "        dp[i][0] = i\n",
    "    \n",
    "    for j in range(n+1):\n",
    "        dp[0][j] = j\n",
    "\n",
    "    for i in range(m+1):\n",
    "        for j in range(n+1):\n",
    "            if word1[i-1] == word2[j-1]:\n",
    "                dp[i][j] = dp[i-1][j-1]\n",
    "            \n",
    "            else:\n",
    "                dp[i][j] = 1 + min(dp[i][j-1], dp[j][i-1], dp[i-1][j-1])\n",
    "            \n",
    "\n",
    "        return dp[m][n]\n"
   ]
  },
  {
   "cell_type": "code",
   "execution_count": 5,
   "metadata": {},
   "outputs": [
    {
     "name": "stdout",
     "output_type": "stream",
     "text": [
      "ha\n",
      "hy\n",
      "hr\n",
      "ha\n",
      "ia\n",
      "iy\n",
      "ir\n",
      "ia\n",
      "ya\n",
      "yy\n",
      "yr\n",
      "ya\n",
      "aa\n",
      "ay\n",
      "ar\n",
      "aa\n"
     ]
    }
   ],
   "source": [
    "def minimum_edit_distance_recur(word1, word2):\n",
    "    m, n = len(word1), len(word2)\n",
    "\n",
    "    if m <= 0:\n",
    "        return n\n",
    "    \n",
    "    elif n == 0:\n",
    "        return m\n",
    "\n",
    "    if word1[m-1] == word2[n-1]:\n",
    "        return minimum_edit_distance_recur(word1[:m-1], word2[:n-1])\n",
    "    \n",
    "    return 1 + min(minimum_edit_distance_recur(word1, word2[:n-1]), minimum_edit_distance_recur(word1[:m-1], word2), minimum_edit_distance_recur(word1[:m-1], word2[:n-1]))"
   ]
  },
  {
   "cell_type": "code",
   "execution_count": 9,
   "metadata": {},
   "outputs": [
    {
     "data": {
      "text/plain": [
       "[[0, 0, 0, 0, 0],\n",
       " [0, 0, 0, 0, 0],\n",
       " [0, 0, 0, 0, 0],\n",
       " [0, 0, 0, 0, 0],\n",
       " [0, 0, 0, 0, 0],\n",
       " [0, 0, 0, 0, 0]]"
      ]
     },
     "execution_count": 9,
     "metadata": {},
     "output_type": "execute_result"
    }
   ],
   "source": [
    "[[0] * (4+1) for _ in range (5+1)]"
   ]
  },
  {
   "cell_type": "code",
   "execution_count": 10,
   "metadata": {},
   "outputs": [
    {
     "data": {
      "text/plain": [
       "[0, 0, 0, 0]"
      ]
     },
     "execution_count": 10,
     "metadata": {},
     "output_type": "execute_result"
    }
   ],
   "source": [
    "[0] * 4"
   ]
  },
  {
   "cell_type": "code",
   "execution_count": 18,
   "metadata": {},
   "outputs": [
    {
     "name": "stdout",
     "output_type": "stream",
     "text": [
      "Title: 00_BN1-129-Eb_comp\n",
      "Duration: 22.32439999999997 seconds\n",
      "Number of Annotations: 17\n",
      "\n",
      "Annotation 1:\n",
      "  Namespace: pitch_contour\n",
      "  Data Points: 4\n",
      "\n",
      "Annotation 2:\n",
      "  Namespace: note_midi\n",
      "  Data Points: 7\n",
      "\n",
      "Annotation 3:\n",
      "  Namespace: pitch_contour\n",
      "  Data Points: 4\n"
     ]
    }
   ],
   "source": [
    "import json\n",
    "\n",
    "# Path to your JAMS file\n",
    "file_path = \"/Users/misanmeggison/Downloads/3371780/annotation/00_BN1-129-Eb_comp.jams\"  # Update with your actual file path\n",
    "\n",
    "# Open and load the JAMS file\n",
    "with open(file_path, \"r\") as file:\n",
    "    jams_data = json.load(file)\n",
    "\n",
    "# Extract metadata\n",
    "metadata = jams_data.get(\"file_metadata\", {})\n",
    "annotations = jams_data.get(\"annotations\", [])\n",
    "\n",
    "# Display general metadata\n",
    "print(\"Title:\", metadata.get(\"title\", \"Unknown\"))\n",
    "print(\"Duration:\", metadata.get(\"duration\", \"Unknown\"), \"seconds\")\n",
    "print(\"Number of Annotations:\", len(annotations))\n",
    "\n",
    "# Display first few annotations (if available)\n",
    "if annotations:\n",
    "    for i, ann in enumerate(annotations[:3]):  # Show only first 3 annotations\n",
    "        print(f\"\\nAnnotation {i+1}:\")\n",
    "        print(\"  Namespace:\", ann.get(\"namespace\", \"Unknown\"))\n",
    "        print(\"  Data Points:\", len(ann.get(\"data\", [])))\n"
   ]
  },
  {
   "cell_type": "code",
   "execution_count": null,
   "metadata": {},
   "outputs": [],
   "source": []
  }
 ],
 "metadata": {
  "kernelspec": {
   "display_name": "base",
   "language": "python",
   "name": "python3"
  },
  "language_info": {
   "codemirror_mode": {
    "name": "ipython",
    "version": 3
   },
   "file_extension": ".py",
   "mimetype": "text/x-python",
   "name": "python",
   "nbconvert_exporter": "python",
   "pygments_lexer": "ipython3",
   "version": "3.12.2"
  }
 },
 "nbformat": 4,
 "nbformat_minor": 2
}
